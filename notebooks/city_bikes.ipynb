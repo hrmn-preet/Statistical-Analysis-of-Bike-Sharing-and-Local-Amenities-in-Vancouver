{
 "cells": [
  {
   "cell_type": "markdown",
   "metadata": {},
   "source": [
    "# CityBikes"
   ]
  },
  {
   "cell_type": "markdown",
   "metadata": {},
   "source": [
    "Send a request to CityBikes for the city of your choice. "
   ]
  },
  {
   "cell_type": "code",
   "execution_count": 2,
   "metadata": {},
   "outputs": [],
   "source": [
    "import requests\n",
    "import pandas as pd\n",
    "import json"
   ]
  },
  {
   "cell_type": "code",
   "execution_count": null,
   "metadata": {},
   "outputs": [],
   "source": [
    "# the end point for City = Vancouver is 'v2/networks/mobibikes'\n",
    "\n",
    "url = 'http://api.citybik.es/v2/networks/mobibikes' \n",
    "\n",
    "response = requests.get(url)\n",
    "\n",
    "# Checking if request was successful\n",
    "if response.status_code == 200:\n",
    "    data = response.json()\n",
    "else:\n",
    "    print(\"Failed to retrieve data:\", response.status_code)\n"
   ]
  },
  {
   "cell_type": "markdown",
   "metadata": {},
   "source": [
    "Parse through the response to get the details you want for the bike stations in that city (latitude, longitude, number of bikes). "
   ]
  },
  {
   "cell_type": "code",
   "execution_count": null,
   "metadata": {},
   "outputs": [],
   "source": [
    "# exploring the structure of data recieved\n",
    "data"
   ]
  },
  {
   "cell_type": "code",
   "execution_count": 7,
   "metadata": {},
   "outputs": [],
   "source": [
    "#converting data in pandas dataframe\n",
    "df = pd.json_normalize(data['network']['stations'])\n"
   ]
  },
  {
   "cell_type": "code",
   "execution_count": 8,
   "metadata": {},
   "outputs": [
    {
     "data": {
      "text/html": [
       "<div>\n",
       "<style scoped>\n",
       "    .dataframe tbody tr th:only-of-type {\n",
       "        vertical-align: middle;\n",
       "    }\n",
       "\n",
       "    .dataframe tbody tr th {\n",
       "        vertical-align: top;\n",
       "    }\n",
       "\n",
       "    .dataframe thead th {\n",
       "        text-align: right;\n",
       "    }\n",
       "</style>\n",
       "<table border=\"1\" class=\"dataframe\">\n",
       "  <thead>\n",
       "    <tr style=\"text-align: right;\">\n",
       "      <th></th>\n",
       "      <th>empty_slots</th>\n",
       "      <th>free_bikes</th>\n",
       "      <th>id</th>\n",
       "      <th>latitude</th>\n",
       "      <th>longitude</th>\n",
       "      <th>name</th>\n",
       "      <th>timestamp</th>\n",
       "      <th>extra.ebikes</th>\n",
       "      <th>extra.has_ebikes</th>\n",
       "      <th>extra.last_updated</th>\n",
       "      <th>extra.normal_bikes</th>\n",
       "      <th>extra.renting</th>\n",
       "      <th>extra.returning</th>\n",
       "      <th>extra.slots</th>\n",
       "      <th>extra.uid</th>\n",
       "    </tr>\n",
       "  </thead>\n",
       "  <tbody>\n",
       "    <tr>\n",
       "      <th>0</th>\n",
       "      <td>24</td>\n",
       "      <td>11</td>\n",
       "      <td>7a19c49f486d7c0c02b3685d7b240448</td>\n",
       "      <td>49.262487</td>\n",
       "      <td>-123.114397</td>\n",
       "      <td>10th &amp; Cambie</td>\n",
       "      <td>2024-04-15T20:41:18.630000Z</td>\n",
       "      <td>0</td>\n",
       "      <td>True</td>\n",
       "      <td>1713213494</td>\n",
       "      <td>11</td>\n",
       "      <td>True</td>\n",
       "      <td>True</td>\n",
       "      <td>36</td>\n",
       "      <td>0001</td>\n",
       "    </tr>\n",
       "    <tr>\n",
       "      <th>1</th>\n",
       "      <td>5</td>\n",
       "      <td>11</td>\n",
       "      <td>32603a87cfca71d0f7dfa3513bad69d5</td>\n",
       "      <td>49.274566</td>\n",
       "      <td>-123.121817</td>\n",
       "      <td>Yaletown-Roundhouse Station</td>\n",
       "      <td>2024-04-15T20:41:18.619000Z</td>\n",
       "      <td>1</td>\n",
       "      <td>True</td>\n",
       "      <td>1713213556</td>\n",
       "      <td>10</td>\n",
       "      <td>True</td>\n",
       "      <td>True</td>\n",
       "      <td>16</td>\n",
       "      <td>0004</td>\n",
       "    </tr>\n",
       "    <tr>\n",
       "      <th>2</th>\n",
       "      <td>14</td>\n",
       "      <td>12</td>\n",
       "      <td>6d42fa40360f9a6b2bf641c7b8bb2862</td>\n",
       "      <td>49.279764</td>\n",
       "      <td>-123.110154</td>\n",
       "      <td>Dunsmuir &amp; Beatty</td>\n",
       "      <td>2024-04-15T20:41:18.620000Z</td>\n",
       "      <td>0</td>\n",
       "      <td>True</td>\n",
       "      <td>1713213217</td>\n",
       "      <td>12</td>\n",
       "      <td>True</td>\n",
       "      <td>True</td>\n",
       "      <td>26</td>\n",
       "      <td>0005</td>\n",
       "    </tr>\n",
       "    <tr>\n",
       "      <th>3</th>\n",
       "      <td>15</td>\n",
       "      <td>1</td>\n",
       "      <td>66f873d641d448bd1572ab086665a458</td>\n",
       "      <td>49.260599</td>\n",
       "      <td>-123.113504</td>\n",
       "      <td>12th &amp; Yukon (City Hall)</td>\n",
       "      <td>2024-04-15T20:41:18.628000Z</td>\n",
       "      <td>1</td>\n",
       "      <td>True</td>\n",
       "      <td>1713213675</td>\n",
       "      <td>0</td>\n",
       "      <td>True</td>\n",
       "      <td>True</td>\n",
       "      <td>16</td>\n",
       "      <td>0007</td>\n",
       "    </tr>\n",
       "    <tr>\n",
       "      <th>4</th>\n",
       "      <td>1</td>\n",
       "      <td>15</td>\n",
       "      <td>485d4d24c803cfde829ab89699fed833</td>\n",
       "      <td>49.264215</td>\n",
       "      <td>-123.117772</td>\n",
       "      <td>8th &amp; Ash</td>\n",
       "      <td>2024-04-15T20:41:18.635000Z</td>\n",
       "      <td>1</td>\n",
       "      <td>True</td>\n",
       "      <td>1713213526</td>\n",
       "      <td>14</td>\n",
       "      <td>True</td>\n",
       "      <td>True</td>\n",
       "      <td>16</td>\n",
       "      <td>0008</td>\n",
       "    </tr>\n",
       "  </tbody>\n",
       "</table>\n",
       "</div>"
      ],
      "text/plain": [
       "   empty_slots  free_bikes                                id   latitude  \\\n",
       "0           24          11  7a19c49f486d7c0c02b3685d7b240448  49.262487   \n",
       "1            5          11  32603a87cfca71d0f7dfa3513bad69d5  49.274566   \n",
       "2           14          12  6d42fa40360f9a6b2bf641c7b8bb2862  49.279764   \n",
       "3           15           1  66f873d641d448bd1572ab086665a458  49.260599   \n",
       "4            1          15  485d4d24c803cfde829ab89699fed833  49.264215   \n",
       "\n",
       "    longitude                         name                    timestamp  \\\n",
       "0 -123.114397                10th & Cambie  2024-04-15T20:41:18.630000Z   \n",
       "1 -123.121817  Yaletown-Roundhouse Station  2024-04-15T20:41:18.619000Z   \n",
       "2 -123.110154            Dunsmuir & Beatty  2024-04-15T20:41:18.620000Z   \n",
       "3 -123.113504     12th & Yukon (City Hall)  2024-04-15T20:41:18.628000Z   \n",
       "4 -123.117772                    8th & Ash  2024-04-15T20:41:18.635000Z   \n",
       "\n",
       "   extra.ebikes  extra.has_ebikes  extra.last_updated  extra.normal_bikes  \\\n",
       "0             0              True          1713213494                  11   \n",
       "1             1              True          1713213556                  10   \n",
       "2             0              True          1713213217                  12   \n",
       "3             1              True          1713213675                   0   \n",
       "4             1              True          1713213526                  14   \n",
       "\n",
       "   extra.renting  extra.returning  extra.slots extra.uid  \n",
       "0           True             True           36      0001  \n",
       "1           True             True           16      0004  \n",
       "2           True             True           26      0005  \n",
       "3           True             True           16      0007  \n",
       "4           True             True           16      0008  "
      ]
     },
     "execution_count": 8,
     "metadata": {},
     "output_type": "execute_result"
    }
   ],
   "source": [
    "#exploring the columns and data recieved\n",
    "df.head()"
   ]
  },
  {
   "cell_type": "code",
   "execution_count": 10,
   "metadata": {},
   "outputs": [],
   "source": [
    "#selecting only required columns from the complete dataframe\n",
    "bikes_data = df[['name','free_bikes','latitude','longitude']]\n",
    "\n",
    "#renaming the column 'name' to 'bike_station_name'\n",
    "bikes_data = bikes_data.rename(columns={'name':'bike_station_name'})"
   ]
  },
  {
   "cell_type": "markdown",
   "metadata": {},
   "source": [
    "Put your parsed results into a DataFrame."
   ]
  },
  {
   "cell_type": "code",
   "execution_count": 11,
   "metadata": {},
   "outputs": [
    {
     "data": {
      "text/html": [
       "<div>\n",
       "<style scoped>\n",
       "    .dataframe tbody tr th:only-of-type {\n",
       "        vertical-align: middle;\n",
       "    }\n",
       "\n",
       "    .dataframe tbody tr th {\n",
       "        vertical-align: top;\n",
       "    }\n",
       "\n",
       "    .dataframe thead th {\n",
       "        text-align: right;\n",
       "    }\n",
       "</style>\n",
       "<table border=\"1\" class=\"dataframe\">\n",
       "  <thead>\n",
       "    <tr style=\"text-align: right;\">\n",
       "      <th></th>\n",
       "      <th>bike_station_name</th>\n",
       "      <th>free_bikes</th>\n",
       "      <th>latitude</th>\n",
       "      <th>longitude</th>\n",
       "    </tr>\n",
       "  </thead>\n",
       "  <tbody>\n",
       "    <tr>\n",
       "      <th>0</th>\n",
       "      <td>10th &amp; Cambie</td>\n",
       "      <td>11</td>\n",
       "      <td>49.262487</td>\n",
       "      <td>-123.114397</td>\n",
       "    </tr>\n",
       "    <tr>\n",
       "      <th>1</th>\n",
       "      <td>10th &amp; Columbia</td>\n",
       "      <td>3</td>\n",
       "      <td>49.262206</td>\n",
       "      <td>-123.109091</td>\n",
       "    </tr>\n",
       "    <tr>\n",
       "      <th>2</th>\n",
       "      <td>10th &amp; Commercial</td>\n",
       "      <td>1</td>\n",
       "      <td>49.261403</td>\n",
       "      <td>-123.070102</td>\n",
       "    </tr>\n",
       "    <tr>\n",
       "      <th>3</th>\n",
       "      <td>10th &amp; Fraser</td>\n",
       "      <td>1</td>\n",
       "      <td>49.261510</td>\n",
       "      <td>-123.089413</td>\n",
       "    </tr>\n",
       "    <tr>\n",
       "      <th>4</th>\n",
       "      <td>10th &amp; Granville</td>\n",
       "      <td>2</td>\n",
       "      <td>49.262598</td>\n",
       "      <td>-123.138921</td>\n",
       "    </tr>\n",
       "  </tbody>\n",
       "</table>\n",
       "</div>"
      ],
      "text/plain": [
       "   bike_station_name  free_bikes   latitude   longitude\n",
       "0      10th & Cambie          11  49.262487 -123.114397\n",
       "1    10th & Columbia           3  49.262206 -123.109091\n",
       "2  10th & Commercial           1  49.261403 -123.070102\n",
       "3      10th & Fraser           1  49.261510 -123.089413\n",
       "4   10th & Granville           2  49.262598 -123.138921"
      ]
     },
     "execution_count": 11,
     "metadata": {},
     "output_type": "execute_result"
    }
   ],
   "source": [
    "bikes_data = bikes_data.sort_values(by='bike_station_name')\n",
    "\n",
    "bikes_data.reset_index(drop=True,inplace=True)\n",
    "\n",
    "bikes_data.head()"
   ]
  },
  {
   "cell_type": "code",
   "execution_count": 12,
   "metadata": {},
   "outputs": [
    {
     "data": {
      "text/plain": [
       "(251, 4)"
      ]
     },
     "execution_count": 12,
     "metadata": {},
     "output_type": "execute_result"
    }
   ],
   "source": [
    "bikes_data.shape\n",
    "\n",
    "#so we have 251 different bike stations in Vancouver city"
   ]
  },
  {
   "cell_type": "code",
   "execution_count": 13,
   "metadata": {},
   "outputs": [],
   "source": [
    "# saving the bikes data to csv for Part 2\n",
    "bikes_data.to_csv('bikes_data_part1.csv', sep=',', index=False, encoding='utf-8')\n"
   ]
  }
 ],
 "metadata": {
  "kernelspec": {
   "display_name": "Python 3",
   "language": "python",
   "name": "python3"
  },
  "language_info": {
   "codemirror_mode": {
    "name": "ipython",
    "version": 3
   },
   "file_extension": ".py",
   "mimetype": "text/x-python",
   "name": "python",
   "nbconvert_exporter": "python",
   "pygments_lexer": "ipython3",
   "version": "3.9.18"
  }
 },
 "nbformat": 4,
 "nbformat_minor": 4
}
